{
 "cells": [
  {
   "cell_type": "markdown",
   "metadata": {},
   "source": [
    "# Analysis of changes in nightly lows at Rochester, NY over last 50 years"
   ]
  },
  {
   "cell_type": "markdown",
   "metadata": {},
   "source": [
    "### Everyone is aware of global worming caused by the increased CO2 content and CH4 content in our atmosphere, the former being caused by the combustion of fossile fuels and the latter being caused by thawing of tundra and gas flares. It is also well known that the international community strives to limit global warming by about 1.5 fahrenheit degrees. Nevertheless, authorities say we may have reached this 1.5 fahrenheit degree increase.\n",
    "\n",
    "### This project looks at the change in nightly lows in the last 60 years in Washington DC to see how it has changed as compared to the global increase of 1.5 fahrenheit degrees. Is the change in nightly lows greater? Why? Can this be all attributed to global warming? Or are other factors at play here such as the urban heat island effect?\n",
    "\n",
    "### Of particular note, after living in Washington DC for some time, I notice that on the local news, the record lows are in the negative double digits in Fahrenheit. But it has almost never gotten below 10F sinche I have been here, which is 25 years. Why? Can I show this on a graph? Why is this so? Certainly a global warming of 1.5 Fahrenheit degrees could not solely be the cause of never getting within 20 Fahrenheit degrees of our past record lows.\n",
    "\n",
    "### This project will explore these issues.\n",
    "\n",
    "### The data was imported from the National Centers for Environmental Information of NOAA (i.e. the National Weather Service)\n",
    "\n",
    "## After downloading data to my local PC, I now read it in and inspect it. Notice that only the date and the minimum temperatures in Fahrenheit are read in"
   ]
  },
  {
   "cell_type": "code",
   "execution_count": 71,
   "metadata": {},
   "outputs": [
    {
     "name": "stdout",
     "output_type": "stream",
     "text": [
      "       STATION      DATE   MIN\n",
      "0  72529014768  01/01/73  33.8\n",
      "1  72529014768  01/02/73  21.2\n",
      "2  72529014768  01/03/73  21.2\n",
      "3  72529014768  01/04/73  34.0\n",
      "4  72529014768  01/05/73  24.8\n",
      "ldlsl\n"
     ]
    }
   ],
   "source": [
    "import pandas as pd\n",
    "# Program to extract number\n",
    "# of rows using Python\n",
    "#import xlrd\n",
    " \n",
    "# Give the location of the file\n",
    "#loc = (\"C:\\Users\\user\\Downloads\\rocmintemp1a.csv\")\n",
    "df = pd.read_csv(\"C:\\\\Users\\\\Matthew\\\\Desktop\\\\datasets\\\\rocmintemp1a.csv\")\n",
    "print(df.head())\n",
    "print('ldlsl')\n"
   ]
  },
  {
   "cell_type": "markdown",
   "metadata": {},
   "source": [
    "### I now explore the read in data"
   ]
  },
  {
   "cell_type": "code",
   "execution_count": 72,
   "metadata": {},
   "outputs": [
    {
     "name": "stdout",
     "output_type": "stream",
     "text": [
      "<class 'pandas.core.frame.DataFrame'>\n",
      "RangeIndex: 17897 entries, 0 to 17896\n",
      "Data columns (total 3 columns):\n",
      " #   Column   Non-Null Count  Dtype  \n",
      "---  ------   --------------  -----  \n",
      " 0   STATION  17897 non-null  int64  \n",
      " 1   DATE     17897 non-null  object \n",
      " 2   MIN      17897 non-null  float64\n",
      "dtypes: float64(1), int64(1), object(1)\n",
      "memory usage: 419.6+ KB\n",
      "None\n"
     ]
    }
   ],
   "source": [
    "print(df.info())"
   ]
  },
  {
   "cell_type": "markdown",
   "metadata": {},
   "source": [
    "### do not that the date column is object type. This will have to be converted to datetime"
   ]
  },
  {
   "cell_type": "code",
   "execution_count": 73,
   "metadata": {},
   "outputs": [
    {
     "name": "stdout",
     "output_type": "stream",
     "text": [
      "(17897, 3)\n"
     ]
    }
   ],
   "source": [
    "print(df.shape)"
   ]
  },
  {
   "cell_type": "code",
   "execution_count": 74,
   "metadata": {},
   "outputs": [
    {
     "name": "stdout",
     "output_type": "stream",
     "text": [
      "            STATION           MIN\n",
      "count  1.789700e+04  17897.000000\n",
      "mean   7.252901e+10     39.867112\n",
      "std    0.000000e+00     76.504429\n",
      "min    7.252901e+10    -22.000000\n",
      "25%    7.252901e+10     27.000000\n",
      "50%    7.252901e+10     39.000000\n",
      "75%    7.252901e+10     54.000000\n",
      "max    7.252901e+10   9999.900000\n"
     ]
    }
   ],
   "source": [
    "print(df.describe())"
   ]
  },
  {
   "cell_type": "code",
   "execution_count": 75,
   "metadata": {},
   "outputs": [
    {
     "name": "stdout",
     "output_type": "stream",
     "text": [
      "          STATION      DATE   MIN\n",
      "2239  72529014768  02/18/79 -22.0\n"
     ]
    }
   ],
   "source": [
    "dmin = df[df['MIN'] == -22.0]\n",
    "print(dmin)"
   ]
  },
  {
   "cell_type": "markdown",
   "metadata": {},
   "source": [
    "### do note the min temp of 9999.000. This row will have to be removed in a cleaning step"
   ]
  },
  {
   "cell_type": "code",
   "execution_count": 76,
   "metadata": {},
   "outputs": [
    {
     "name": "stdout",
     "output_type": "stream",
     "text": [
      " 32.0    440\n",
      " 59.0    364\n",
      " 50.0    351\n",
      " 33.1    351\n",
      " 34.0    341\n",
      "        ... \n",
      " 79.0      1\n",
      "-5.3       1\n",
      "-9.2       1\n",
      "-13.0      1\n",
      " 74.8      1\n",
      "Name: MIN, Length: 200, dtype: int64\n"
     ]
    }
   ],
   "source": [
    "print(df['MIN'].value_counts())"
   ]
  },
  {
   "cell_type": "code",
   "execution_count": 77,
   "metadata": {},
   "outputs": [
    {
     "name": "stdout",
     "output_type": "stream",
     "text": [
      "(17896, 3)\n"
     ]
    }
   ],
   "source": [
    "df2 = df[df['MIN'] < 100.0]\n",
    "print(df2.shape)"
   ]
  },
  {
   "cell_type": "markdown",
   "metadata": {},
   "source": [
    "### only one row was eliminated in this cleaning step"
   ]
  },
  {
   "cell_type": "code",
   "execution_count": 78,
   "metadata": {},
   "outputs": [
    {
     "name": "stdout",
     "output_type": "stream",
     "text": [
      "           STATION      DATE   MIN\n",
      "0      72529014768  01/01/73  33.8\n",
      "1      72529014768  01/02/73  21.2\n",
      "2      72529014768  01/03/73  21.2\n",
      "3      72529014768  01/04/73  34.0\n",
      "4      72529014768  01/05/73  24.8\n",
      "...            ...       ...   ...\n",
      "17892  72529014768  12/27/21  26.6\n",
      "17893  72529014768  12/28/21  27.0\n",
      "17894  72529014768  12/29/21  32.0\n",
      "17895  72529014768  12/30/21  32.0\n",
      "17896  72529014768  12/31/21  35.1\n",
      "\n",
      "[17896 rows x 3 columns]\n"
     ]
    }
   ],
   "source": [
    "print(df2)"
   ]
  },
  {
   "cell_type": "code",
   "execution_count": 79,
   "metadata": {},
   "outputs": [
    {
     "name": "stdout",
     "output_type": "stream",
     "text": [
      "(17896, 3)\n"
     ]
    }
   ],
   "source": [
    "df2 = df2[df2['MIN'] > -23.0]\n",
    "print(df2.shape)"
   ]
  },
  {
   "cell_type": "code",
   "execution_count": 80,
   "metadata": {},
   "outputs": [
    {
     "name": "stdout",
     "output_type": "stream",
     "text": [
      "(17896, 3)\n",
      "        STATION       DATE   MIN\n",
      "0   72529014768 1973-01-01  33.8\n",
      "1   72529014768 1973-01-02  21.2\n",
      "2   72529014768 1973-01-03  21.2\n",
      "3   72529014768 1973-01-04  34.0\n",
      "4   72529014768 1973-01-05  24.8\n",
      "..          ...        ...   ...\n",
      "86  72529014768 1973-03-28  24.1\n",
      "87  72529014768 1973-03-29  46.9\n",
      "88  72529014768 1973-03-30  47.8\n",
      "89  72529014768 1973-03-31  46.9\n",
      "90  72529014768 1973-04-01  52.9\n",
      "\n",
      "[90 rows x 3 columns]\n"
     ]
    }
   ],
   "source": [
    "df2['DATE'] = pd.to_datetime(df['DATE'])\n",
    "print(df2.shape)\n",
    "print(df2.head(90))"
   ]
  },
  {
   "cell_type": "code",
   "execution_count": 81,
   "metadata": {},
   "outputs": [
    {
     "name": "stdout",
     "output_type": "stream",
     "text": [
      "       STATION       DATE   MIN  year  month\n",
      "0  72529014768 1973-01-01  33.8  1973      1\n",
      "1  72529014768 1973-01-02  21.2  1973      1\n",
      "2  72529014768 1973-01-03  21.2  1973      1\n",
      "3  72529014768 1973-01-04  34.0  1973      1\n",
      "4  72529014768 1973-01-05  24.8  1973      1\n"
     ]
    }
   ],
   "source": [
    "df2['year'] = df2['DATE'].dt.year\n",
    "df2['month'] = df2['DATE'].dt.month\n",
    "print(df2.head())"
   ]
  },
  {
   "cell_type": "markdown",
   "metadata": {},
   "source": [
    "### After forming month and year columns derived from the date column, we will now focus on the coldest months of the year (Dec to March) and store in df3 "
   ]
  },
  {
   "cell_type": "code",
   "execution_count": 82,
   "metadata": {},
   "outputs": [
    {
     "name": "stdout",
     "output_type": "stream",
     "text": [
      "(5940, 5)\n"
     ]
    }
   ],
   "source": [
    "df3 = df2[(df2['month'] > 11) | (df2['month'] < 4)]\n",
    "print(df3.shape)"
   ]
  },
  {
   "cell_type": "markdown",
   "metadata": {},
   "source": [
    "### Unfortunately, December is of a different year than Jan thru March. I'll remedy this issue by adding a new column called 'season' to allow for December to be grouped with Jan thru March of the next calendar year"
   ]
  },
  {
   "cell_type": "code",
   "execution_count": 83,
   "metadata": {},
   "outputs": [
    {
     "name": "stdout",
     "output_type": "stream",
     "text": [
      "       STATION       DATE   MIN  year  month     season\n",
      "0  72529014768 1973-01-01  33.8  1973      1  1972/1973\n",
      "1  72529014768 1973-01-02  21.2  1973      1  1972/1973\n",
      "2  72529014768 1973-01-03  21.2  1973      1  1972/1973\n",
      "3  72529014768 1973-01-04  34.0  1973      1  1972/1973\n",
      "4  72529014768 1973-01-05  24.8  1973      1  1972/1973\n"
     ]
    },
    {
     "name": "stderr",
     "output_type": "stream",
     "text": [
      "C:\\Users\\Matthew\\AppData\\Local\\Temp/ipykernel_15380/160414122.py:1: SettingWithCopyWarning: \n",
      "A value is trying to be set on a copy of a slice from a DataFrame.\n",
      "Try using .loc[row_indexer,col_indexer] = value instead\n",
      "\n",
      "See the caveats in the documentation: https://pandas.pydata.org/pandas-docs/stable/user_guide/indexing.html#returning-a-view-versus-a-copy\n",
      "  df3['season'] = df3.apply(lambda x: f\"{x['year']-1}/{x['year']}\" if x['month'] < 4 else f\"{x['year']}/{x['year']+1}\", axis=1)\n"
     ]
    }
   ],
   "source": [
    "df3['season'] = df3.apply(lambda x: f\"{x['year']-1}/{x['year']}\" if x['month'] < 4 else f\"{x['year']}/{x['year']+1}\", axis=1)\n",
    "print(df3.head())"
   ]
  },
  {
   "cell_type": "code",
   "execution_count": 84,
   "metadata": {},
   "outputs": [],
   "source": [
    "meeny = df3.groupby(['season'])['MIN'].mean()"
   ]
  },
  {
   "cell_type": "markdown",
   "metadata": {},
   "source": [
    "### we will now calculate the average low temperature in Fahrenheit for each winter season of Dec 1 to March 31 for each year 1973 to 2021"
   ]
  },
  {
   "cell_type": "code",
   "execution_count": 85,
   "metadata": {},
   "outputs": [
    {
     "name": "stdout",
     "output_type": "stream",
     "text": [
      "season\n",
      "1972/1973    24.198876\n",
      "1973/1974    20.492562\n",
      "1974/1975    22.819008\n",
      "1975/1976    19.967213\n",
      "1976/1977    17.257851\n",
      "1977/1978    16.131405\n",
      "1978/1979    17.514876\n",
      "1979/1980    19.022131\n",
      "1980/1981    16.645455\n",
      "1981/1982    18.960331\n",
      "1982/1983    26.501653\n",
      "1983/1984    20.516393\n",
      "1984/1985    22.424793\n",
      "1985/1986    21.311570\n",
      "1986/1987    22.558678\n",
      "1987/1988    22.040164\n",
      "1988/1989    21.609917\n",
      "1989/1990    22.088430\n",
      "1990/1991    24.885950\n",
      "1991/1992    21.858197\n",
      "1992/1993    20.007438\n",
      "1993/1994    17.095041\n",
      "1994/1995    23.757025\n",
      "1995/1996    16.976230\n",
      "1996/1997    23.505785\n",
      "1997/1998    26.867769\n",
      "1998/1999    21.695041\n",
      "1999/2000    22.257377\n",
      "2000/2001    19.561983\n",
      "2001/2002    25.238843\n",
      "2002/2003    17.318182\n",
      "2003/2004    19.721311\n",
      "2004/2005    17.940496\n",
      "2005/2006    23.567769\n",
      "2006/2007    23.352893\n",
      "2007/2008    21.487705\n",
      "2008/2009    19.656198\n",
      "2009/2010    21.833884\n",
      "2010/2011    18.570248\n",
      "2011/2012    27.221311\n",
      "2012/2013    23.794215\n",
      "2013/2014    15.924793\n",
      "2014/2015    15.679339\n",
      "2015/2016    25.551639\n",
      "2016/2017    24.537190\n",
      "2017/2018    21.009091\n",
      "2018/2019    21.114050\n",
      "2019/2020    24.729508\n",
      "2020/2021    23.106612\n",
      "2021/2022    28.425806\n",
      "Name: MIN, dtype: float64\n"
     ]
    }
   ],
   "source": [
    "print(meeny)"
   ]
  },
  {
   "cell_type": "code",
   "execution_count": 86,
   "metadata": {},
   "outputs": [
    {
     "data": {
      "image/png": "[encoded data removed]",
      "text/plain": [
       "<Figure size 432x288 with 1 Axes>"
      ]
     },
     "metadata": {
      "needs_background": "light"
     },
     "output_type": "display_data"
    }
   ],
   "source": [
    "import matplotlib.pyplot as plt\n",
    "plt.plot(meeny)\n",
    "plt.show()"
   ]
  },
  {
   "cell_type": "code",
   "execution_count": 87,
   "metadata": {},
   "outputs": [
    {
     "data": {
      "image/png": "[encoded data removed]",
      "text/plain": [
       "<Figure size 432x288 with 1 Axes>"
      ]
     },
     "metadata": {
      "needs_background": "light"
     },
     "output_type": "display_data"
    }
   ],
   "source": [
    "import matplotlib.pyplot as plt\n",
    "plt.plot(meeny.rolling(7).mean())\n",
    "plt.show()"
   ]
  },
  {
   "cell_type": "markdown",
   "metadata": {},
   "source": [
    "### The second (i.e. lower) graph is averaged over 7 years, and clearly seems to show an outsized increase in temperatures compared to the global 1.5 fahrenheit average.  Furthermore, in the last few years of 2017 to 2021, it has increased dramatically as compared to just a 1.5 Fahrenheit increase in global temperatures.\n",
    "### Now, I will focus on the number of nightly lows each season that dropped below a certain threshold. I opted for Zero Fahrenheit as it shows a cold night well below the norm"
   ]
  },
  {
   "cell_type": "code",
   "execution_count": 88,
   "metadata": {},
   "outputs": [
    {
     "name": "stdout",
     "output_type": "stream",
     "text": [
      "season\n",
      "1972/1973     3\n",
      "1973/1974     5\n",
      "1974/1975     0\n",
      "1975/1976     8\n",
      "1976/1977     8\n",
      "1977/1978    11\n",
      "1978/1979    13\n",
      "1979/1980     4\n",
      "1980/1981    14\n",
      "1981/1982     8\n",
      "1982/1983     1\n",
      "1983/1984     5\n",
      "1984/1985     3\n",
      "1985/1986     1\n",
      "1986/1987     3\n",
      "1987/1988     3\n",
      "1988/1989     1\n",
      "1989/1990     4\n",
      "1990/1991     0\n",
      "1991/1992     0\n",
      "1992/1993     6\n",
      "1993/1994    12\n",
      "1994/1995     0\n",
      "1995/1996     6\n",
      "1996/1997     2\n",
      "1997/1998     0\n",
      "1998/1999     4\n",
      "1999/2000     7\n",
      "2000/2001     0\n",
      "2001/2002     0\n",
      "2002/2003    13\n",
      "2003/2004     9\n",
      "2004/2005     9\n",
      "2005/2006     0\n",
      "2006/2007     0\n",
      "2007/2008     0\n",
      "2008/2009     0\n",
      "2009/2010     2\n",
      "2010/2011     3\n",
      "2011/2012     0\n",
      "2012/2013     0\n",
      "2013/2014    14\n",
      "2014/2015    15\n",
      "2015/2016     3\n",
      "2016/2017     0\n",
      "2017/2018     7\n",
      "2018/2019     4\n",
      "2019/2020     0\n",
      "2020/2021     0\n",
      "2021/2022     0\n",
      "Name: MIN, dtype: int64\n"
     ]
    }
   ],
   "source": [
    "zippo = df3.groupby('season')['MIN'].apply(lambda x: x[x < 0.0].count())\n",
    "print(zippo)"
   ]
  },
  {
   "cell_type": "code",
   "execution_count": 89,
   "metadata": {},
   "outputs": [
    {
     "data": {
      "image/png": "[encoded data removed]",
      "text/plain": [
       "<Figure size 432x288 with 1 Axes>"
      ]
     },
     "metadata": {
      "needs_background": "light"
     },
     "output_type": "display_data"
    }
   ],
   "source": [
    "import matplotlib.pyplot as plt\n",
    "zippo.plot.bar()\n",
    "plt.show()"
   ]
  },
  {
   "cell_type": "markdown",
   "metadata": {},
   "source": [
    "### data and graph above sow a dramatic grop in occurrences of nightly lows falling below the threshold of 0F in Rochester, NY. Note that the recently, about half of all winter seasons had no nights falling below 0F"
   ]
  },
  {
   "cell_type": "code",
   "execution_count": 90,
   "metadata": {},
   "outputs": [
    {
     "name": "stdout",
     "output_type": "stream",
     "text": [
      "season\n",
      "1972/1973    NaN\n",
      "1973/1974    NaN\n",
      "1974/1975    NaN\n",
      "1975/1976    NaN\n",
      "1976/1977    NaN\n",
      "1977/1978    NaN\n",
      "1978/1979    NaN\n",
      "1979/1980    NaN\n",
      "1980/1981    NaN\n",
      "1981/1982    7.4\n",
      "1982/1983    7.2\n",
      "1983/1984    7.2\n",
      "1984/1985    7.5\n",
      "1985/1986    6.8\n",
      "1986/1987    6.3\n",
      "1987/1988    5.5\n",
      "1988/1989    4.3\n",
      "1989/1990    4.3\n",
      "1990/1991    2.9\n",
      "1991/1992    2.1\n",
      "1992/1993    2.6\n",
      "1993/1994    3.3\n",
      "1994/1995    3.0\n",
      "1995/1996    3.5\n",
      "1996/1997    3.4\n",
      "1997/1998    3.1\n",
      "1998/1999    3.4\n",
      "1999/2000    3.7\n",
      "2000/2001    3.7\n",
      "2001/2002    3.7\n",
      "2002/2003    4.4\n",
      "2003/2004    4.1\n",
      "2004/2005    5.0\n",
      "2005/2006    4.4\n",
      "2006/2007    4.2\n",
      "2007/2008    4.2\n",
      "2008/2009    3.8\n",
      "2009/2010    3.3\n",
      "2010/2011    3.6\n",
      "2011/2012    3.6\n",
      "2012/2013    2.3\n",
      "2013/2014    2.8\n",
      "2014/2015    3.4\n",
      "2015/2016    3.7\n",
      "2016/2017    3.7\n",
      "2017/2018    4.4\n",
      "2018/2019    4.8\n",
      "2019/2020    4.6\n",
      "2020/2021    4.3\n",
      "2021/2022    4.3\n",
      "Name: MIN, dtype: float64\n"
     ]
    }
   ],
   "source": [
    "ziproll = zippo.rolling(10).mean()\n",
    "print(ziproll)"
   ]
  },
  {
   "cell_type": "code",
   "execution_count": 91,
   "metadata": {},
   "outputs": [
    {
     "data": {
      "image/png": "[encoded data removed]",
      "text/plain": [
       "<Figure size 432x288 with 1 Axes>"
      ]
     },
     "metadata": {
      "needs_background": "light"
     },
     "output_type": "display_data"
    }
   ],
   "source": [
    "plt.plot(ziproll)\n",
    "plt.show()"
   ]
  },
  {
   "cell_type": "markdown",
   "metadata": {},
   "source": [
    "### a rolling featur is applied to the linegraph to average each datapoint according to the previous 7 data points to get a more smooth plot. Notice the huge percentage drop in nightly lows falling below this 0F threshold! I find it hard to believe that this can be statistically explained by just a 1.5 Fahrenheit degrees increase in global temperatures."
   ]
  },
  {
   "cell_type": "code",
   "execution_count": 92,
   "metadata": {},
   "outputs": [
    {
     "name": "stdout",
     "output_type": "stream",
     "text": [
      "year\n",
      "1973    22.158065\n",
      "1974    19.990323\n",
      "1975    20.667742\n",
      "1976    11.870968\n",
      "1977     7.509677\n",
      "1978    15.232258\n",
      "1979    14.580645\n",
      "1980    16.861290\n",
      "1981     7.070968\n",
      "1982     9.574194\n",
      "1983    22.283871\n",
      "1984    15.212903\n",
      "1985    14.370968\n",
      "1986    18.106452\n",
      "1987    19.870968\n",
      "1988    17.374194\n",
      "1989    22.561290\n",
      "1990    26.980645\n",
      "1991    19.035484\n",
      "1992    19.325806\n",
      "1993    21.203226\n",
      "1994     7.219355\n",
      "1995    25.893548\n",
      "1996    14.222581\n",
      "1997    16.480645\n",
      "1998    24.616129\n",
      "1999    16.070968\n",
      "2000    13.664516\n",
      "2001    19.658065\n",
      "2002    24.822581\n",
      "2003    10.200000\n",
      "2004     9.000000\n",
      "2005    13.503226\n",
      "2006    26.777419\n",
      "2007    22.674194\n",
      "2008    22.477419\n",
      "2009    11.141935\n",
      "2010    17.354839\n",
      "2011    14.967742\n",
      "2012    21.877419\n",
      "2013    19.735484\n",
      "2014    12.270968\n",
      "2015     9.877419\n",
      "2016    18.832258\n",
      "2017    25.067742\n",
      "2018    15.754839\n",
      "2019    15.422581\n",
      "2020    22.400000\n",
      "2021    22.587097\n",
      "Name: MIN, dtype: float64\n"
     ]
    }
   ],
   "source": [
    "jandat = df2[df2['month'] == 1]\n",
    "#print(janmin)\n",
    "dfjanminmean = jandat.groupby(['year'])['MIN'].mean()\n",
    "print (dfjanminmean)"
   ]
  },
  {
   "cell_type": "code",
   "execution_count": 93,
   "metadata": {},
   "outputs": [
    {
     "name": "stdout",
     "output_type": "stream",
     "text": [
      "year\n",
      "1973    59.748387\n",
      "1974    57.400000\n",
      "1975    59.303226\n",
      "1976    58.225806\n",
      "1977    62.032258\n",
      "1978    59.483871\n",
      "1979    60.348387\n",
      "1980    60.803226\n",
      "1981    60.538710\n",
      "1982    62.567742\n",
      "1983    63.877419\n",
      "1984    57.570968\n",
      "1985    58.945161\n",
      "1986    61.612903\n",
      "1987    63.770968\n",
      "1988    61.845161\n",
      "1989    61.706452\n",
      "1990    61.700000\n",
      "1991    62.416129\n",
      "1992    58.806452\n",
      "1993    62.629032\n",
      "1994    64.000000\n",
      "1995    61.354839\n",
      "1996    59.329032\n",
      "1997    58.125806\n",
      "1998    59.564516\n",
      "1999    62.861290\n",
      "2000    56.087097\n",
      "2001    56.729032\n",
      "2002    61.593548\n",
      "2003    58.867742\n",
      "2004    58.661290\n",
      "2005    61.893548\n",
      "2006    64.561290\n",
      "2007    57.174194\n",
      "2008    60.341935\n",
      "2009    55.606452\n",
      "2010    62.145161\n",
      "2011    61.709677\n",
      "2012    61.800000\n",
      "2013    62.848387\n",
      "2014    58.770968\n",
      "2015    59.645161\n",
      "2016    62.448387\n",
      "2017    61.190323\n",
      "2018    62.458065\n",
      "2019    62.883871\n",
      "2020    64.035484\n",
      "2021    60.383871\n",
      "Name: MIN, dtype: float64\n"
     ]
    }
   ],
   "source": [
    "juldat = df2[df2['month'] == 7]\n",
    "#print(janmin)\n",
    "dfjulminmean = juldat.groupby(['year'])['MIN'].mean()\n",
    "print (dfjulminmean)"
   ]
  },
  {
   "cell_type": "code",
   "execution_count": 94,
   "metadata": {},
   "outputs": [
    {
     "data": {
      "image/png": "[encoded data removed]",
      "text/plain": [
       "<Figure size 432x288 with 1 Axes>"
      ]
     },
     "metadata": {
      "needs_background": "light"
     },
     "output_type": "display_data"
    }
   ],
   "source": [
    "import matplotlib.pyplot as plt\n",
    "plt.plot(dfjanminmean)\n",
    "plt.plot(dfjulminmean - 40)\n",
    "plt.show()"
   ]
  },
  {
   "cell_type": "code",
   "execution_count": 95,
   "metadata": {},
   "outputs": [
    {
     "data": {
      "image/png": "[encoded data removed]",
      "text/plain": [
       "<Figure size 432x288 with 1 Axes>"
      ]
     },
     "metadata": {
      "needs_background": "light"
     },
     "output_type": "display_data"
    }
   ],
   "source": [
    "janroll = dfjanminmean.rolling(7).mean()\n",
    "julroll = dfjulminmean.rolling(7).mean()\n",
    "import matplotlib.pyplot as plt\n",
    "plt.plot(janroll)\n",
    "plt.plot(julroll - 40)\n",
    "plt.show()"
   ]
  },
  {
   "cell_type": "markdown",
   "metadata": {},
   "source": [
    "## Average July nightly lows (in yellow) barely changed over the last 50 years while average January nightly lows varied widely and have been steadily increasing, with the most pronounced increase in the last 5 years. 40 degrees Fahrenheit was subtracted from the July readings to superimpose the two graphs for easier comparison\n",
    "\n",
    "# Mean seasonal low temperatures seems to show an outsized increase over the 50 year window of this dataset compared to the global 1.5 fahrenheit degree increase. Also, the changes in the last 5 years seem very dramatic compared to that over the remainder of the 50 year data window suggesting a rapid acceleration of global warming."
   ]
  }
 ],
 "metadata": {
  "kernelspec": {
   "display_name": "Python 3 (ipykernel)",
   "language": "python",
   "name": "python3"
  },
  "language_info": {
   "codemirror_mode": {
    "name": "ipython",
    "version": 3
   },
   "file_extension": ".py",
   "mimetype": "text/x-python",
   "name": "python",
   "nbconvert_exporter": "python",
   "pygments_lexer": "ipython3",
   "version": "3.9.7"
  }
 },
 "nbformat": 4,
 "nbformat_minor": 4
}
