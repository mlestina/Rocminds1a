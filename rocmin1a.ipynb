{
 "cells": [
  {
   "cell_type": "code",
   "execution_count": 1,
   "metadata": {},
   "outputs": [
    {
     "name": "stdout",
     "output_type": "stream",
     "text": [
      "       STATION      DATE   MIN\n",
      "0  72529014768  01/01/73  33.8\n",
      "1  72529014768  01/02/73  21.2\n",
      "2  72529014768  01/03/73  21.2\n",
      "3  72529014768  01/04/73  34.0\n",
      "4  72529014768  01/05/73  24.8\n",
      "ldlsl\n"
     ]
    }
   ],
   "source": [
    "import pandas as pd\n",
    "# Program to extract number\n",
    "# of rows using Python\n",
    "#import xlrd\n",
    " \n",
    "# Give the location of the file\n",
    "#loc = (\"C:\\Users\\user\\Downloads\\rocmintemp1a.csv\")\n",
    "df = pd.read_csv(\"C:\\\\Users\\\\user\\\\Downloads\\\\rocmintemp1a.csv\")\n",
    "print(df.head())\n",
    "print('ldlsl')\n"
   ]
  },
  {
   "cell_type": "code",
   "execution_count": 2,
   "metadata": {},
   "outputs": [
    {
     "name": "stdout",
     "output_type": "stream",
     "text": [
      "<class 'pandas.core.frame.DataFrame'>\n",
      "RangeIndex: 17897 entries, 0 to 17896\n",
      "Data columns (total 3 columns):\n",
      " #   Column   Non-Null Count  Dtype  \n",
      "---  ------   --------------  -----  \n",
      " 0   STATION  17897 non-null  int64  \n",
      " 1   DATE     17897 non-null  object \n",
      " 2   MIN      17897 non-null  float64\n",
      "dtypes: float64(1), int64(1), object(1)\n",
      "memory usage: 419.6+ KB\n",
      "None\n"
     ]
    }
   ],
   "source": [
    "print(df.info())"
   ]
  },
  {
   "cell_type": "code",
   "execution_count": 3,
   "metadata": {},
   "outputs": [
    {
     "name": "stdout",
     "output_type": "stream",
     "text": [
      "(17897, 3)\n"
     ]
    }
   ],
   "source": [
    "print(df.shape)"
   ]
  },
  {
   "cell_type": "code",
   "execution_count": 4,
   "metadata": {},
   "outputs": [
    {
     "name": "stdout",
     "output_type": "stream",
     "text": [
      "            STATION           MIN\n",
      "count  1.789700e+04  17897.000000\n",
      "mean   7.252901e+10     39.867112\n",
      "std    0.000000e+00     76.504429\n",
      "min    7.252901e+10    -22.000000\n",
      "25%    7.252901e+10     27.000000\n",
      "50%    7.252901e+10     39.000000\n",
      "75%    7.252901e+10     54.000000\n",
      "max    7.252901e+10   9999.900000\n"
     ]
    }
   ],
   "source": [
    "print(df.describe())"
   ]
  },
  {
   "cell_type": "code",
   "execution_count": 5,
   "metadata": {},
   "outputs": [
    {
     "name": "stdout",
     "output_type": "stream",
     "text": [
      "          STATION      DATE   MIN\n",
      "2239  72529014768  02/18/79 -22.0\n"
     ]
    }
   ],
   "source": [
    "dmin = df[df['MIN'] == -22.0]\n",
    "print(dmin)"
   ]
  },
  {
   "cell_type": "code",
   "execution_count": 6,
   "metadata": {},
   "outputs": [
    {
     "name": "stdout",
     "output_type": "stream",
     "text": [
      " 32.0    440\n",
      " 59.0    364\n",
      " 50.0    351\n",
      " 33.1    351\n",
      " 34.0    341\n",
      "        ... \n",
      " 0.1       1\n",
      " 40.8      1\n",
      "-13.0      1\n",
      " 75.2      1\n",
      " 79.0      1\n",
      "Name: MIN, Length: 200, dtype: int64\n"
     ]
    }
   ],
   "source": [
    "print(df['MIN'].value_counts())"
   ]
  },
  {
   "cell_type": "code",
   "execution_count": 7,
   "metadata": {},
   "outputs": [
    {
     "name": "stdout",
     "output_type": "stream",
     "text": [
      "(17896, 3)\n"
     ]
    }
   ],
   "source": [
    "df2 = df[df['MIN'] < 100.0]\n",
    "print(df2.shape)"
   ]
  },
  {
   "cell_type": "code",
   "execution_count": 8,
   "metadata": {},
   "outputs": [
    {
     "name": "stdout",
     "output_type": "stream",
     "text": [
      "           STATION      DATE   MIN\n",
      "0      72529014768  01/01/73  33.8\n",
      "1      72529014768  01/02/73  21.2\n",
      "2      72529014768  01/03/73  21.2\n",
      "3      72529014768  01/04/73  34.0\n",
      "4      72529014768  01/05/73  24.8\n",
      "...            ...       ...   ...\n",
      "17892  72529014768  12/27/21  26.6\n",
      "17893  72529014768  12/28/21  27.0\n",
      "17894  72529014768  12/29/21  32.0\n",
      "17895  72529014768  12/30/21  32.0\n",
      "17896  72529014768  12/31/21  35.1\n",
      "\n",
      "[17896 rows x 3 columns]\n"
     ]
    }
   ],
   "source": [
    "print(df2)"
   ]
  },
  {
   "cell_type": "code",
   "execution_count": 9,
   "metadata": {},
   "outputs": [
    {
     "name": "stdout",
     "output_type": "stream",
     "text": [
      "(17896, 3)\n"
     ]
    }
   ],
   "source": [
    "df2 = df2[df2['MIN'] > -23.0]\n",
    "print(df2.shape)"
   ]
  },
  {
   "cell_type": "code",
   "execution_count": 10,
   "metadata": {},
   "outputs": [
    {
     "name": "stdout",
     "output_type": "stream",
     "text": [
      "(17896, 3)\n",
      "        STATION       DATE   MIN\n",
      "0   72529014768 1973-01-01  33.8\n",
      "1   72529014768 1973-01-02  21.2\n",
      "2   72529014768 1973-01-03  21.2\n",
      "3   72529014768 1973-01-04  34.0\n",
      "4   72529014768 1973-01-05  24.8\n",
      "..          ...        ...   ...\n",
      "86  72529014768 1973-03-28  24.1\n",
      "87  72529014768 1973-03-29  46.9\n",
      "88  72529014768 1973-03-30  47.8\n",
      "89  72529014768 1973-03-31  46.9\n",
      "90  72529014768 1973-04-01  52.9\n",
      "\n",
      "[90 rows x 3 columns]\n"
     ]
    }
   ],
   "source": [
    "df2['DATE'] = pd.to_datetime(df['DATE'])\n",
    "print(df2.shape)\n",
    "print(df2.head(90))"
   ]
  },
  {
   "cell_type": "code",
   "execution_count": 11,
   "metadata": {},
   "outputs": [
    {
     "name": "stdout",
     "output_type": "stream",
     "text": [
      "       STATION       DATE   MIN  year  month\n",
      "0  72529014768 1973-01-01  33.8  1973      1\n",
      "1  72529014768 1973-01-02  21.2  1973      1\n",
      "2  72529014768 1973-01-03  21.2  1973      1\n",
      "3  72529014768 1973-01-04  34.0  1973      1\n",
      "4  72529014768 1973-01-05  24.8  1973      1\n"
     ]
    }
   ],
   "source": [
    "df2['year'] = df2['DATE'].dt.year\n",
    "df2['month'] = df2['DATE'].dt.month\n",
    "print(df2.head())"
   ]
  },
  {
   "cell_type": "code",
   "execution_count": 12,
   "metadata": {},
   "outputs": [
    {
     "name": "stdout",
     "output_type": "stream",
     "text": [
      "(7410, 5)\n"
     ]
    }
   ],
   "source": [
    "df2 = df2[(df2['month'] > 10) | (df2['month'] < 4)]\n",
    "print(df2.shape)"
   ]
  },
  {
   "cell_type": "code",
   "execution_count": 15,
   "metadata": {},
   "outputs": [
    {
     "name": "stdout",
     "output_type": "stream",
     "text": [
      "       STATION       DATE   MIN  year  month     season\n",
      "0  72529014768 1973-01-01  33.8  1973      1  1972/1973\n",
      "1  72529014768 1973-01-02  21.2  1973      1  1972/1973\n",
      "2  72529014768 1973-01-03  21.2  1973      1  1972/1973\n",
      "3  72529014768 1973-01-04  34.0  1973      1  1972/1973\n",
      "4  72529014768 1973-01-05  24.8  1973      1  1972/1973\n"
     ]
    }
   ],
   "source": [
    "df2['season'] = df2.apply(lambda x: f\"{x['year']-1}/{x['year']}\" if x['month'] <= 4 else f\"{x['year']}/{x['year']+1}\", axis=1)\n",
    "print(df2.head())"
   ]
  },
  {
   "cell_type": "code",
   "execution_count": 17,
   "metadata": {},
   "outputs": [],
   "source": [
    "meeny = df2.groupby(['season'])['MIN'].mean()"
   ]
  },
  {
   "cell_type": "code",
   "execution_count": 18,
   "metadata": {},
   "outputs": [
    {
     "name": "stdout",
     "output_type": "stream",
     "text": [
      "season\n",
      "1972/1973    24.198876\n",
      "1973/1974    23.337086\n",
      "1974/1975    24.570199\n",
      "1975/1976    23.226974\n",
      "1976/1977    19.209272\n",
      "1977/1978    19.903311\n",
      "1978/1979    20.125166\n",
      "1979/1980    22.036842\n",
      "1980/1981    19.670199\n",
      "1981/1982    21.435762\n",
      "1982/1983    28.646358\n",
      "1983/1984    23.415132\n",
      "1984/1985    24.221192\n",
      "1985/1986    24.336424\n",
      "1986/1987    24.141060\n",
      "1987/1988    24.255263\n",
      "1988/1989    24.452318\n",
      "1989/1990    23.760265\n",
      "1990/1991    26.871523\n",
      "1991/1992    23.961184\n",
      "1992/1993    22.670199\n",
      "1993/1994    20.135099\n",
      "1994/1995    26.705298\n",
      "1995/1996    19.465132\n",
      "1996/1997    24.541060\n",
      "1997/1998    27.616556\n",
      "1998/1999    24.129801\n",
      "1999/2000    25.176316\n",
      "2000/2001    21.903311\n",
      "2001/2002    27.420530\n",
      "2002/2003    20.352980\n",
      "2003/2004    22.512500\n",
      "2004/2005    20.798013\n",
      "2005/2006    25.683444\n",
      "2006/2007    26.050331\n",
      "2007/2008    23.155921\n",
      "2008/2009    21.987417\n",
      "2009/2010    23.896026\n",
      "2010/2011    20.884106\n",
      "2011/2012    28.695395\n",
      "2012/2013    25.317219\n",
      "2013/2014    18.534437\n",
      "2014/2015    18.614570\n",
      "2015/2016    27.626316\n",
      "2016/2017    26.823179\n",
      "2017/2018    22.964238\n",
      "2018/2019    22.900662\n",
      "2019/2020    25.134868\n",
      "2020/2021    25.729801\n",
      "2021/2022    30.154098\n",
      "Name: MIN, dtype: float64\n"
     ]
    }
   ],
   "source": [
    "print(meeny)"
   ]
  },
  {
   "cell_type": "code",
   "execution_count": 22,
   "metadata": {},
   "outputs": [
    {
     "data": {
      "image/png": "[encoded data removed]",
      "text/plain": [
       "<Figure size 432x288 with 1 Axes>"
      ]
     },
     "metadata": {
      "needs_background": "light"
     },
     "output_type": "display_data"
    }
   ],
   "source": [
    "import matplotlib.pyplot as plt\n",
    "meeny.plot.bar()\n",
    "plt.show()"
   ]
  },
  {
   "cell_type": "code",
   "execution_count": 26,
   "metadata": {},
   "outputs": [
    {
     "name": "stdout",
     "output_type": "stream",
     "text": [
      "season\n",
      "1972/1973     3\n",
      "1973/1974     5\n",
      "1974/1975     0\n",
      "1975/1976     8\n",
      "1976/1977     8\n",
      "1977/1978    11\n",
      "1978/1979    13\n",
      "1979/1980     4\n",
      "1980/1981    14\n",
      "1981/1982     8\n",
      "1982/1983     1\n",
      "1983/1984     5\n",
      "1984/1985     3\n",
      "1985/1986     1\n",
      "1986/1987     3\n",
      "1987/1988     3\n",
      "1988/1989     1\n",
      "1989/1990     4\n",
      "1990/1991     0\n",
      "1991/1992     0\n",
      "1992/1993     6\n",
      "1993/1994    12\n",
      "1994/1995     0\n",
      "1995/1996     6\n",
      "1996/1997     2\n",
      "1997/1998     0\n",
      "1998/1999     4\n",
      "1999/2000     7\n",
      "2000/2001     0\n",
      "2001/2002     0\n",
      "2002/2003    13\n",
      "2003/2004     9\n",
      "2004/2005     9\n",
      "2005/2006     0\n",
      "2006/2007     0\n",
      "2007/2008     0\n",
      "2008/2009     0\n",
      "2009/2010     2\n",
      "2010/2011     3\n",
      "2011/2012     0\n",
      "2012/2013     0\n",
      "2013/2014    14\n",
      "2014/2015    15\n",
      "2015/2016     3\n",
      "2016/2017     0\n",
      "2017/2018     7\n",
      "2018/2019     4\n",
      "2019/2020     0\n",
      "2020/2021     0\n",
      "2021/2022     0\n",
      "Name: MIN, dtype: int64\n"
     ]
    }
   ],
   "source": [
    "zippo = df2.groupby('season')['MIN'].apply(lambda x: x[x < 0.0].count())\n",
    "print(zippo)"
   ]
  },
  {
   "cell_type": "code",
   "execution_count": 27,
   "metadata": {},
   "outputs": [
    {
     "data": {
      "image/png": "[encoded data removed]",
      "text/plain": [
       "<Figure size 432x288 with 1 Axes>"
      ]
     },
     "metadata": {
      "needs_background": "light"
     },
     "output_type": "display_data"
    }
   ],
   "source": [
    "import matplotlib.pyplot as plt\n",
    "zippo.plot.bar()\n",
    "plt.show()"
   ]
  },
  {
   "cell_type": "code",
   "execution_count": null,
   "metadata": {},
   "outputs": [],
   "source": []
  }
 ],
 "metadata": {
  "kernelspec": {
   "display_name": "Python 3",
   "language": "python",
   "name": "python3"
  },
  "language_info": {
   "codemirror_mode": {
    "name": "ipython",
    "version": 3
   },
   "file_extension": ".py",
   "mimetype": "text/x-python",
   "name": "python",
   "nbconvert_exporter": "python",
   "pygments_lexer": "ipython3",
   "version": "3.8.5"
  }
 },
 "nbformat": 4,
 "nbformat_minor": 4
}
